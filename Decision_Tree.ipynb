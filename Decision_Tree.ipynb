{
  "nbformat": 4,
  "nbformat_minor": 0,
  "metadata": {
    "colab": {
      "provenance": []
    },
    "kernelspec": {
      "name": "python3",
      "display_name": "Python 3"
    },
    "language_info": {
      "name": "python"
    }
  },
  "cells": [
    {
      "cell_type": "markdown",
      "source": [
        "# Decision Tree"
      ],
      "metadata": {
        "id": "2jNA4P3sVUe9"
      }
    },
    {
      "cell_type": "code",
      "execution_count": null,
      "metadata": {
        "id": "1zH8IlzPVFq9"
      },
      "outputs": [],
      "source": [
        "import pandas as pd\n",
        "from sklearn.model_selection import train_test_split\n",
        "from sklearn.tree import DecisionTreeClassifier\n",
        "from sklearn.metrics import accuracy_score\n",
        "import matplotlib.pyplot as plt\n",
        "\n",
        "def clean_data(data):\n",
        "    data= pd.read_csv('train.csv')\n",
        "\n",
        "    # dropujemo passenger_id, name, ticket i cabin\n",
        "    X = data[['Pclass', 'Sex', 'Age', 'SibSp', 'Parch', 'Fare', 'Embarked']]\n",
        "    y = data['Survived']\n",
        "\n",
        "    X['Sex'] = X['Sex'].map({'female': 0, 'male': 1})\n",
        "    X['Embarked'] = X['Embarked'].map({'S': 0, 'C': 1, 'Q': 2})\n",
        "\n",
        "    # zameni na sa srednjom vrednoscu\n",
        "    X['Age'].fillna(X['Age'].median(), inplace=True)\n",
        "    # gde ima missing embarked samo zameni sa najcescom vrednoscu\n",
        "    X['Embarked'].fillna(X['Embarked'].mode()[0], inplace=True)\n",
        "    X['Fare'].fillna(X['Fare'].median(), inplace=True)\n",
        "\n",
        "    X = (X - X.mean()) / X.std()\n",
        "\n",
        "    X = X.values\n",
        "    y = y.values\n",
        "    return X, y\n",
        "\n",
        "data_train = \"train.csv\"\n",
        "data_test = \"test.csv\"\n",
        "\n",
        "X_train, y_train = clean_data(data_train)\n",
        "X_test, y_test = clean_data(data_test)\n",
        "\n",
        "tree = DecisionTreeClassifier()\n",
        "tree.fit(X_train, y_train)\n",
        "\n",
        "prediction = tree.predict(X_test)\n",
        "accuracy = accuracy_score(y_test, prediction)\n",
        "print(\"Accuracy: \", accuracy)\n"
      ]
    },
    {
      "cell_type": "code",
      "source": [
        "tree = DecisionTreeClassifier()\n",
        "bag = BaggingClassifier(tree, n_estimators=100, max_samples=0.8,\n",
        "                        random_state=1)\n",
        "\n",
        "bag.fit(X_train, y_train)\n",
        "prediction = bag.predict(X_test)\n",
        "accuracy = accuracy_score(y_test, prediction)\n",
        "print(\"Accuracy: \", accuracy)"
      ],
      "metadata": {
        "id": "JpGo_MehVO-A"
      },
      "execution_count": null,
      "outputs": []
    }
  ]
}